{
 "cells": [
  {
   "cell_type": "code",
   "execution_count": 1,
   "metadata": {},
   "outputs": [],
   "source": [
    "import seaborn as sns\n",
    "import pandas as pd\n",
    "import numpy as np\n",
    "import matplotlib.pyplot as plt\n",
    "\n",
    "# Read csv data from specific folder\n",
    "file01 \t= 'C:/Users/Andi/H8_PFDS_DS_C1C2_3/Dataset/googleplaystore.csv'\n",
    "file02 \t= 'C:/Users/Andi/H8_PFDS_DS_C1C2_3/Dataset/googleplaystore_user_reviews.csv'\n",
    "df\t\t= pd.read_csv(file01)\n",
    "df_user\t= pd.read_csv(file02)\n",
    "\n",
    "# Check NA values\n",
    "total \t\t = df.isnull().sum().sort_values(ascending=False)\n",
    "percent \t = 100*(df.isnull().sum()/df.isnull().count()).sort_values(ascending=False)\n",
    "missing_data = pd.concat([total, percent], axis=1, keys=['Total', 'Percent'])\n",
    "#print(missing_data)\n",
    "\n",
    "# Drop important columns for NA value\n",
    "df.dropna(how ='any', inplace = True)\n",
    "# df\t\t= df.dropna(subset=['Type', 'Genres'])\n",
    "\n",
    "# Check NA values\n",
    "total \t\t = df.isnull().sum().sort_values(ascending=False)\n",
    "percent \t = 100*(df.isnull().sum()/df.isnull().count()).sort_values(ascending=False)\n",
    "missing_data = pd.concat([total, percent], axis=1, keys=['Total', 'Percent'])\n",
    "#print(missing_data)\n",
    "\n",
    "# Align the value to proper dtypes\n",
    "#print(df.dtypes)\n",
    "df['Price'] \t= df['Price'].apply(lambda x: x.replace('$', '').replace(' ', '')).astype('float')\n",
    "df['Installs']  = df['Installs'].apply(lambda x: x.replace(',', '').replace('+', '')).astype('float')\n",
    "#print(df.dtypes)\n",
    "ax = sns.kdeplot(df['Rating'], shade=True)"
   ]
  },
  {
   "cell_type": "code",
   "execution_count": 2,
   "metadata": {},
   "outputs": [
    {
     "name": "stdout",
     "output_type": "stream",
     "text": [
      "<class 'list'>\n",
      "<class 'list'>\n",
      "<class 'list'>\n",
      "<class 'set'>\n",
      "<class 'frozenset'>\n",
      "<class 'tuple'>\n",
      "<class 'tuple'>\n",
      "[1, 2, 3]\n",
      "['A', 'n', 'd', 'i', '1', '2', '3']\n",
      "[1, 2, 3, 'tes']\n",
      "{1, 2, 3}\n",
      "frozenset({'a', 'c', 'b'})\n",
      "(1, 2, 3)\n",
      "(1, 2, 3)\n"
     ]
    }
   ],
   "source": [
    "import pandas as pd\n",
    "import numpy as np\n",
    "\n",
    "# List is a collection which is ordered and changeable. Allows duplicate members.\n",
    "a = [1, 2, 3]\n",
    "b = list('Andi123')\n",
    "c = list((1, 2, 3, 'tes'))\n",
    "fruits = [\"apple\", \"banana\", \"cherry\"]\n",
    "fruits.insert(1,\"lemon\")\n",
    "# append, clear, copy, count, extend, index, insert, pop, remove, reverse, sort\n",
    "\n",
    "# Set is a collection which is unordered and unindexed. No duplicate members.\n",
    "d = {1, 2, 3, 1, 2}  # Set - faster\n",
    "e = frozenset('abc')\n",
    "# add, clear, copy, difference, discard, intersection, pop, remove, update\n",
    "\n",
    "# Tuple is a collection which is ordered and unchangeable. Allows duplicate members.\n",
    "f = (1, 2, 3)  # Tuple - fastest\n",
    "g = tuple([1, 2, 3])  # Tuple - fastest\n",
    "# count, index\n",
    "\n",
    "# Dictionary is a collection which is unordered, changeable and indexed. No duplicate members.\n",
    "myfamily = {\"child1\": {\"name\": \"Emil\", \"year\": 2004},\n",
    "            \"child2\": {\"name\": \"Tobias\", \"year\": 2007},\n",
    "            \"child3\": {\"name\": \"Linus\", \"year\": 2011}}\n",
    "# clear, copy, fromkeys, get, items, keys, pop, popitem, setdefault, update, values\n",
    "\n",
    "# Numeric Types — int, float, complex\n",
    "# Sequence Types — list, tuple, range\n",
    "print(type(a))\n",
    "print(type(b))\n",
    "print(type(c))\n",
    "print(type(d))\n",
    "print(type(e))\n",
    "print(type(f))\n",
    "print(type(g))\n",
    "print(a)\n",
    "print(b)\n",
    "print(c)\n",
    "print(d)\n",
    "print(e)\n",
    "print(f)\n",
    "print(g)"
   ]
  },
  {
   "cell_type": "code",
   "execution_count": 2,
   "metadata": {},
   "outputs": [
    {
     "name": "stdout",
     "output_type": "stream",
     "text": [
      "Min:  12829.4551\n",
      "Max:  62592.87309\n",
      "Std:  11167.38677135979\n",
      "Mean:  33042.00597528302\n",
      "Median:  36085.219\n"
     ]
    },
    {
     "data": {
      "image/png": "[encoded data removed]",
      "text/plain": [
       "<Figure size 432x288 with 1 Axes>"
      ]
     },
     "metadata": {
      "needs_background": "light"
     },
     "output_type": "display_data"
    }
   ],
   "source": [
    "import pandas as pd\n",
    "import numpy as np\n",
    "\n",
    "insurance_data = pd.read_csv(\n",
    "    'C:/Users/Andi/H8_PFDS_DS_C1C2_3/Dataset/insurance.csv')\n",
    "male_data = insurance_data.loc[(insurance_data['sex'] == 'male') & (\n",
    "    insurance_data['smoker'] == 'yes')]\n",
    "\n",
    "print(\"Min: \", np.min(male_data.charges))\n",
    "print(\"Max: \", np.max(male_data.charges))\n",
    "print(\"Std: \", np.std(male_data.charges))\n",
    "print(\"Mean: \", np.mean(male_data.charges))\n",
    "print(\"Median: \", np.median(male_data.charges))\n",
    "male_data.charges.describe()\n",
    "boxplot = male_data.boxplot(column='charges')"
   ]
  },
  {
   "cell_type": "code",
   "execution_count": 6,
   "metadata": {},
   "outputs": [
    {
     "data": {
      "image/png": "[encoded data removed]",
      "text/plain": [
       "<Figure size 432x288 with 1 Axes>"
      ]
     },
     "metadata": {
      "needs_background": "light"
     },
     "output_type": "display_data"
    }
   ],
   "source": [
    "import matplotlib.pyplot as plt\n",
    "\n",
    "num_throws = 10000\n",
    "outcomes = np.zeros(num_throws)\n",
    "for i in range(num_throws):\n",
    "    # let's roll the die\n",
    "    outcome = np.random.choice(['1', '2', '3', '4', '5', '6'])\n",
    "    outcomes[i] = outcome\n",
    "\n",
    "val, cnt = np.unique(outcomes, return_counts=True)\n",
    "prop = cnt / len(outcomes)\n",
    "\n",
    "# Now that we have rolled our die 10000 times, let's plot the results\n",
    "plt.bar(val, prop)\n",
    "plt.ylabel(\"Probability\")\n",
    "plt.xlabel(\"Outcome\")\n",
    "plt.show()\n",
    "plt.close()"
   ]
  },
  {
   "cell_type": "code",
   "execution_count": 8,
   "metadata": {},
   "outputs": [
    {
     "data": {
      "text/plain": [
       "array([0.1659, 0.1666, 0.1672, 0.1621, 0.1719, 0.1663])"
      ]
     },
     "execution_count": 8,
     "metadata": {},
     "output_type": "execute_result"
    }
   ],
   "source": [
    "prop"
   ]
  },
  {
   "cell_type": "code",
   "execution_count": null,
   "metadata": {},
   "outputs": [],
   "source": []
  }
 ],
 "metadata": {
  "kernelspec": {
   "display_name": "Python 3",
   "language": "python",
   "name": "python3"
  },
  "language_info": {
   "codemirror_mode": {
    "name": "ipython",
    "version": 3
   },
   "file_extension": ".py",
   "mimetype": "text/x-python",
   "name": "python",
   "nbconvert_exporter": "python",
   "pygments_lexer": "ipython3",
   "version": "3.7.4"
  },
  "toc": {
   "base_numbering": 1,
   "nav_menu": {},
   "number_sections": true,
   "sideBar": true,
   "skip_h1_title": false,
   "title_cell": "Table of Contents",
   "title_sidebar": "Contents",
   "toc_cell": false,
   "toc_position": {},
   "toc_section_display": true,
   "toc_window_display": false
  }
 },
 "nbformat": 4,
 "nbformat_minor": 2
}
