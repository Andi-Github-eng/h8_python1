{
 "cells": [
  {
   "cell_type": "markdown",
   "metadata": {},
   "source": [
    "# Mass Function"
   ]
  },
  {
   "cell_type": "code",
   "execution_count": 1,
   "metadata": {},
   "outputs": [
    {
     "data": {
      "text/plain": [
       "<Figure size 640x480 with 1 Axes>"
      ]
     },
     "metadata": {},
     "output_type": "display_data"
    }
   ],
   "source": [
    "import numpy as np\n",
    "import pandas as pd\n",
    "import matplotlib.pyplot as plt\n",
    "\n",
    "num_throws = 10000\n",
    "outcomes = np.zeros(num_throws)\n",
    "for i in range(num_throws):\n",
    "    # let's roll the die\n",
    "    outcome = np.random.choice(['1', '2', '3', '4', '5', '6'])\n",
    "    outcomes[i] = outcome\n",
    "\n",
    "val, cnt = np.unique(outcomes, return_counts=True)\n",
    "prop = cnt / len(outcomes)\n",
    "\n",
    "# Now that we have rolled our die 10000 times, let's plot the results\n",
    "plt.bar(val, prop)\n",
    "plt.ylabel(\"Probability\")\n",
    "plt.xlabel(\"Outcome\")\n",
    "plt.show()\n",
    "plt.close()"
   ]
  },
  {
   "cell_type": "markdown",
   "metadata": {},
   "source": [
    "# Interval"
   ]
  },
  {
   "cell_type": "code",
   "execution_count": 15,
   "metadata": {},
   "outputs": [
    {
     "data": {
      "text/plain": [
       "(array([4.0000e+00, 7.0000e+00, 1.1000e+01, 3.5000e+01, 7.3000e+01,\n",
       "        7.9000e+01, 2.3100e+02, 4.8800e+02, 8.1500e+02, 1.4880e+03,\n",
       "        2.3780e+03, 2.5110e+03, 5.4510e+03, 8.5170e+03, 1.2650e+04,\n",
       "        1.8033e+04, 1.5787e+04, 3.0142e+04, 3.8707e+04, 4.8327e+04,\n",
       "        5.7649e+04, 6.5734e+04, 4.7906e+04, 7.6057e+04, 7.8837e+04,\n",
       "        7.8401e+04, 7.5043e+04, 4.6688e+04, 6.4371e+04, 5.5104e+04,\n",
       "        4.5373e+04, 3.6089e+04, 2.7700e+04, 1.4474e+04, 1.6087e+04,\n",
       "        1.1004e+04, 7.1850e+03, 4.5380e+03, 1.9850e+03, 1.9110e+03,\n",
       "        1.0020e+03, 5.6800e+02, 2.9300e+02, 1.4800e+02, 5.0000e+01,\n",
       "        3.7000e+01, 1.9000e+01, 7.0000e+00, 4.0000e+00, 2.0000e+00]),\n",
       " array([0.58   , 0.58282, 0.58564, 0.58846, 0.59128, 0.5941 , 0.59692,\n",
       "        0.59974, 0.60256, 0.60538, 0.6082 , 0.61102, 0.61384, 0.61666,\n",
       "        0.61948, 0.6223 , 0.62512, 0.62794, 0.63076, 0.63358, 0.6364 ,\n",
       "        0.63922, 0.64204, 0.64486, 0.64768, 0.6505 , 0.65332, 0.65614,\n",
       "        0.65896, 0.66178, 0.6646 , 0.66742, 0.67024, 0.67306, 0.67588,\n",
       "        0.6787 , 0.68152, 0.68434, 0.68716, 0.68998, 0.6928 , 0.69562,\n",
       "        0.69844, 0.70126, 0.70408, 0.7069 , 0.70972, 0.71254, 0.71536,\n",
       "        0.71818, 0.721  ]),\n",
       " <a list of 50 Patch objects>)"
      ]
     },
     "execution_count": 15,
     "metadata": {},
     "output_type": "execute_result"
    },
    {
     "data": {
      "image/png": "[encoded data removed]",
      "text/plain": [
       "<Figure size 432x288 with 1 Axes>"
      ]
     },
     "metadata": {
      "needs_background": "light"
     },
     "output_type": "display_data"
    }
   ],
   "source": [
    "love_soccer_prop = 0.65  # Real percentage of people who love soccer\n",
    "total_population = 325*10**6  # Total population in the U.S. (325M)\n",
    "num_people_who_love_soccer = int(total_population * love_soccer_prop)\n",
    "num_people_dont_love_soccer = int(total_population * (1 - love_soccer_prop))\n",
    "people_love_soccer = np.ones(num_people_who_love_soccer)\n",
    "people_dont_love_soccer = np.zeros(num_people_dont_love_soccer)\n",
    "all_people = np.hstack([people_love_soccer, people_dont_love_soccer])\n",
    "#print (np.mean(all_people))\n",
    "results = np.zeros(1000000)\n",
    "for i in range(1000000):\n",
    "    sample = np.random.choice(all_people, size=1000)\n",
    "    results[i] = np.mean(sample)\n",
    "    #print (sample)\n",
    "    #print ('Sample', i, ':', np.mean(sample))\n",
    "plt.hist(results,bins=50)"
   ]
  },
  {
   "cell_type": "markdown",
   "metadata": {},
   "source": [
    "# Hipotesisi Testing"
   ]
  },
  {
   "cell_type": "code",
   "execution_count": null,
   "metadata": {},
   "outputs": [],
   "source": [
    "import pandas as pd\n",
    "import numpy as np\n",
    "import matplotlib.pyplot as plt\n",
    "full_data = pd.read_csv('https://github.com/ardhiraka/PFDS_sources/raw/master/coffee_dataset.csv')\n",
    "sample_data = full_data.sample(200)\n",
    "# 1. Lets bootstrap using a subset of the data and note down means for coffee and non-coffee drinkers, as well as the differences in both.\n",
    "means = []\n",
    "no_coffee_means = []\n",
    "coffee_means = []\n",
    "for _ in range (10000):\n",
    "    bootstrap = sample_data.sample(200, replace=True)\n",
    "    coffeemean = bootstrap[bootstrap.drinks_coffee == True].height.mean()\n",
    "    nocoffeemean = bootstrap[bootstrap.drinks_coffee == False] .height.mean()\n",
    "    no_coffee_means.append(nocoffeemean)\n",
    "    coffee_means.append(coffeemean)\n",
    "    means.append(coffeemean - nocoffeemean)\n",
    "#Lets plot this\n",
    "plt.hist(coffee_means, alpha=0.5);\n",
    "plt.hist(no_coffee_means, alpha=0.5);"
   ]
  },
  {
   "cell_type": "code",
   "execution_count": null,
   "metadata": {},
   "outputs": [],
   "source": []
  }
 ],
 "metadata": {
  "kernelspec": {
   "display_name": "Python 3",
   "language": "python",
   "name": "python3"
  },
  "language_info": {
   "codemirror_mode": {
    "name": "ipython",
    "version": 3
   },
   "file_extension": ".py",
   "mimetype": "text/x-python",
   "name": "python",
   "nbconvert_exporter": "python",
   "pygments_lexer": "ipython3",
   "version": "3.7.4"
  },
  "toc": {
   "base_numbering": 1,
   "nav_menu": {},
   "number_sections": true,
   "sideBar": true,
   "skip_h1_title": false,
   "title_cell": "Table of Contents",
   "title_sidebar": "Contents",
   "toc_cell": false,
   "toc_position": {},
   "toc_section_display": true,
   "toc_window_display": false
  }
 },
 "nbformat": 4,
 "nbformat_minor": 2
}
