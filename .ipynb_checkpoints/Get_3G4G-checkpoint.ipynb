{
 "cells": [
  {
   "cell_type": "markdown",
   "metadata": {},
   "source": [
    "# pip install mysql-connector"
   ]
  },
  {
   "cell_type": "markdown",
   "metadata": {},
   "source": [
    "# Query for 3G"
   ]
  },
  {
   "cell_type": "code",
   "execution_count": null,
   "metadata": {},
   "outputs": [],
   "source": [
    "import pandas as pd\n",
    "import mysql.connector\n",
    "from mysql.connector import Error\n",
    "\n",
    "try:\n",
    "    connection = mysql.connector.connect(host='10.158.234.215',\n",
    "                                         database='isat_project',\n",
    "                                         user='npandih',\n",
    "                                         password='Bgy9s7')\n",
    "    if connection.is_connected():\n",
    "        db_Info = connection.get_server_info()\n",
    "        print(\"Connected to MySQL Server version \", db_Info)\n",
    "        cursor = connection.cursor()\n",
    "        cursor.execute(\"select database();\")\n",
    "        record = cursor.fetchone()\n",
    "        print(\"You're connected to database: \", record)\n",
    "\n",
    "        sql_select_Query = \"\"\"SELECT DISTINCT a.xDate, a.xHour, a.RNC_ID, a.WBTS_ID, a.WCEL_ID,\n",
    "        round(if(avail_wcell_exists_in_rnw_db=0,null, 100*(avail_wcell_in_wo_state) / (avail_wcell_exists_in_rnw_db)),0) as Availability,\n",
    "        (SUM_HSDPA_USERS_IN_CELL)/(DENOM_HSDPA_USERS_PER_CELL) AS HSDPA_USER_AVG,\n",
    "        (rrc_conn_stp_fail_ac_dl) AS fails_AC_DL_PW,\n",
    "        (rrc_conn_stp_fail_ac_ul) AS fails_AC_UL_PW,\n",
    "        (rrc_conn_stp_fail_ac_cod) AS fails_AC_code\n",
    "        FROM isat_project.t_3g_counter_hour_new as a\n",
    "        WHERE (a.xDate Between '2020-02-20' and '2020-02-20')\n",
    "        Group by a.xDate, a.xHour, a.RNC_ID, a.WBTS_ID, a.WCEL_ID\"\"\"\n",
    "\n",
    "        cursor = connection.cursor()\n",
    "        cursor.execute(sql_select_Query)\n",
    "        records = cursor.fetchall()\n",
    "        print(\"Total number of rows in Laptop is: \", cursor.rowcount)\n",
    "        df = pd.DataFrame(records)\n",
    "        df.to_csv('3G_20022020.csv', header=False)\n",
    "except Error as e:\n",
    "    print(\"Error while connecting to MySQL\", e)\n",
    "finally:\n",
    "    if (connection.is_connected()):\n",
    "        cursor.close()\n",
    "        connection.close()\n",
    "        print(\"MySQL connection is closed\")"
   ]
  },
  {
   "cell_type": "code",
   "execution_count": null,
   "metadata": {},
   "outputs": [],
   "source": [
    "df[7].hist(bins=10)\n",
    "df.max()"
   ]
  },
  {
   "cell_type": "markdown",
   "metadata": {},
   "source": [
    "# Query for 4G"
   ]
  },
  {
   "cell_type": "code",
   "execution_count": 11,
   "metadata": {},
   "outputs": [
    {
     "name": "stdout",
     "output_type": "stream",
     "text": [
      "Connected to MySQL Server version  5.5.60-MariaDB\n",
      "You're connected to database:  ('isat_project',)\n",
      "Total number of rows in Laptop is:  555194\n",
      "MySQL connection is closed\n"
     ]
    }
   ],
   "source": [
    "import pandas as pd\n",
    "import mysql.connector\n",
    "from mysql.connector import Error\n",
    "\n",
    "try:\n",
    "    connection = mysql.connector.connect(host='10.158.234.215',\n",
    "                                         database='isat_project',\n",
    "                                         user='npandih',\n",
    "                                         password='Bgy9s7')\n",
    "    if connection.is_connected():\n",
    "        db_Info = connection.get_server_info()\n",
    "        print(\"Connected to MySQL Server version \", db_Info)\n",
    "        cursor = connection.cursor()\n",
    "        cursor.execute(\"select database();\")\n",
    "        record = cursor.fetchone()\n",
    "        print(\"You're connected to database: \", record)\n",
    "\n",
    "        sql_select_Query = \"\"\"SELECT a.xDate, a.xHour,a.MRBTS_ID,a.LNBTS_ID,a.LNCEL_ID,\n",
    "        (100*a.samples_cell_avail/a.denom_cell_avail) AS Cell_avail,\n",
    "        ((a.dl_prb_util_tti_level_1*10)+(a.dl_prb_util_tti_level_2*20)+(a.dl_prb_util_tti_level_3*30)+(a.dl_prb_util_tti_level_4*40)+(a.dl_prb_util_tti_level_5*50)+\n",
    "        (a.dl_prb_util_tti_level_6*60)+(a.dl_prb_util_tti_level_7*70)+(a.dl_prb_util_tti_level_8*80)+(a.dl_prb_util_tti_level_9*90)+(a.dl_prb_util_tti_level_10*100))/\n",
    "        (a.dl_prb_util_tti_level_1+a.dl_prb_util_tti_level_2+a.dl_prb_util_tti_level_3+a.dl_prb_util_tti_level_4+a.dl_prb_util_tti_level_5+a.dl_prb_util_tti_level_6+\n",
    "        a.dl_prb_util_tti_level_7+a.dl_prb_util_tti_level_8+a.dl_prb_util_tti_level_9+a.dl_prb_util_tti_level_10) AS DL_PRB_Util,\n",
    "        RRC_CONNECTED_UE_MAX AS RRC_user_Max\n",
    "        FROM isat_project.t_4g_counter_hour AS a \n",
    "        WHERE ((a.xDate Between '2020-02-26' and '2020-02-26') AND (a.xHour between '12' and '23'))\"\"\"\n",
    "\n",
    "        cursor = connection.cursor()\n",
    "        cursor.execute(sql_select_Query)\n",
    "        records = cursor.fetchall()\n",
    "        print(\"Total number of rows in Laptop is: \", cursor.rowcount)\n",
    "        df = pd.DataFrame(records)\n",
    "        df.to_csv('4G_26022020_2.csv', header=False)\n",
    "except Error as e:\n",
    "    print(\"Error while connecting to MySQL\", e)\n",
    "finally:\n",
    "    if (connection.is_connected()):\n",
    "        cursor.close()\n",
    "        connection.close()\n",
    "        print(\"MySQL connection is closed\")"
   ]
  },
  {
   "cell_type": "code",
   "execution_count": 12,
   "metadata": {},
   "outputs": [
    {
     "data": {
      "text/plain": [
       "<matplotlib.axes._subplots.AxesSubplot at 0x13f012d1e08>"
      ]
     },
     "execution_count": 12,
     "metadata": {},
     "output_type": "execute_result"
    },
    {
     "data": {
      "image/png": "[encoded data removed]",
      "text/plain": [
       "<Figure size 432x288 with 1 Axes>"
      ]
     },
     "metadata": {
      "needs_background": "light"
     },
     "output_type": "display_data"
    }
   ],
   "source": [
    "df.max()\n",
    "df[5].hist(bins=10)"
   ]
  },
  {
   "cell_type": "code",
   "execution_count": null,
   "metadata": {},
   "outputs": [],
   "source": []
  }
 ],
 "metadata": {
  "kernelspec": {
   "display_name": "Python 3",
   "language": "python",
   "name": "python3"
  },
  "language_info": {
   "codemirror_mode": {
    "name": "ipython",
    "version": 3
   },
   "file_extension": ".py",
   "mimetype": "text/x-python",
   "name": "python",
   "nbconvert_exporter": "python",
   "pygments_lexer": "ipython3",
   "version": "3.7.4"
  },
  "toc": {
   "base_numbering": 1,
   "nav_menu": {},
   "number_sections": true,
   "sideBar": true,
   "skip_h1_title": false,
   "title_cell": "Table of Contents",
   "title_sidebar": "Contents",
   "toc_cell": false,
   "toc_position": {},
   "toc_section_display": true,
   "toc_window_display": false
  }
 },
 "nbformat": 4,
 "nbformat_minor": 2
}
