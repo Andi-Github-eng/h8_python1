{
 "cells": [
  {
   "cell_type": "markdown",
   "metadata": {},
   "source": [
    "# Read Data CSV"
   ]
  },
  {
   "cell_type": "code",
   "execution_count": 2,
   "metadata": {},
   "outputs": [
    {
     "name": "stdout",
     "output_type": "stream",
     "text": [
      "Applikasi termahal ( $ 400.0 ) ==>  [\"I'm Rich - Trump Edition\"]\n",
      "Applikasi termurah ( $ 0.99 ) ==>  ['All-in-One Mahjong 3' 'World Racers family board game'\n",
      " 'SweetLand — Family Board Game' 'iBP Blood Pressure'\n",
      " 'Blood Pressure Companion' 'Nursing Care Plan NANDA Tables'\n",
      " 'palmPEDi: Pediatric Tape' 'HD Widgets' 'Kairo XP (for HD Widgets)'\n",
      " 'B-52 Spirits of Glory Deluxe' 'Neon Glow C - Icon Pack' 'Hitman Sniper'\n",
      " 'Koi Live Wallpaper' 'Go' 'A41 WatchFace for Android Wear Smart Watch'\n",
      " 'Cut the Rope GOLD' \"Ghosts'n Goblins MOBILE\"\n",
      " \"Lock 'n' Roll Pro - Ad Free\" 'Planet O - Icon Pack' 'P-Home for KLWP'\n",
      " '[Sub/EMUI] P Pro - EMUI 8.1/8.0/5.X Theme'\n",
      " 'Volume Slider Like Android P Volume Control' 'Android P Style Icon Pack'\n",
      " 'pretty Easy privacy p≡p'\n",
      " 'Q Alerts: QAnon Drop Notifications, Research +++' 'Neon-R (Red)'\n",
      " 'Jurassic Life: T Rex Simulator' 'Mental Hospital V'\n",
      " 'W-History Standalone' 'Light X - Icon Pack' 'X-Plane to GPS'\n",
      " 'X Back - Icon Pack' 'Zombie Avengers:(Dreamsky)Stickman War Z'\n",
      " 'WhatsFake Pro (Ad free)' 'My baby firework (Remove ad)'\n",
      " 'Easy Hotspot Ad Free' 'Mupen64Plus AE (N64 Emulator)'\n",
      " 'AG Subway Simulator Mobile' 'Watch Face Swiss AJ-6' 'AJ Gray Icon Pack'\n",
      " 'AJ Gray Dark Icon Pack' 'AJ Blue Icon Pack' 'Nightenfell: Shared AR'\n",
      " 'BringGo AU & NZ' 'Ultimate Watch 2 watch face'\n",
      " 'F05WatchFace for Android Wear' 'Ice Crush 10.000 B.C.'\n",
      " 'Wolf of the BF:Commando MOBILE' 'My Virtual Boyfriend'\n",
      " 'Droid PRoCon BF3' 'Basket Manager 2016 Pro' 'Basket Manager 2017 Pro'\n",
      " 'Infinity Dungeon VIP' 'Little Magnet BT Pro' 'Watch Face BW Inter'\n",
      " 'Color Changer Pro [root]' 'Hitman GO' 'Trinomial Factoring Wizard'\n",
      " 'CA Speakers' 'CB Frequencies' 'Antenna Tool Premium' 'Frequencies'\n",
      " 'CE Map - Interactive Conan Exiles Map' 'Next Launcher 3D Bold-CF Theme'\n",
      " 'FAV KWGT' 'Pixxy KWGT' 'CI 174 Gray Icon Pack' 'F*ck This Game' '211:CK'\n",
      " 'OMEGA Black UI Theme - CM 12+' 'Ski Safari: Adventure Time'\n",
      " 'Chinese Chess 3D Online (Xiangqi, 象棋, co tuong)'\n",
      " 'DCUO|CR Calculator Pro' 'CV-RECORD Pro' 'CW Studio ®'\n",
      " 'Morse Machine for Ham Radio' 'Online TV CZ/SK PRO'\n",
      " '10,000 Quotes DB (Premium)' 'DL Image Manager' 'Interactive NPC DM Tool'\n",
      " 'DW Contacts widget' 'ZOOKEEPER DX TouchEdition' 'Chronolink DX'\n",
      " 'DX Glow - Clock Widget' 'Dress Up RagazzA13 DX'\n",
      " 'Lost Journey (Dreamsky)'\n",
      " 'League of Stickman 2018- Ninja Arena PVP(Dreamsky)'\n",
      " 'Stickman Legends: Shadow Wars' 'E.G. Chess' 'El Chavo'\n",
      " \"Poker Equity Calculator Pro for No Limit Hold'em\"\n",
      " 'EU Flags Live Wallpaper' 'European War 6: 1804' 'Deus Ex GO'\n",
      " 'Device Info Ex Live Wallpaper' 'An Elite Warrior Ex'\n",
      " 'GO Contacts EX Black & Grey' 'Portable Wi-Fi hotspot Premium'\n",
      " 'FL Racing Manager 2015 Pro' 'Circle Colors Pack-FN Theme'\n",
      " 'Fruit Ninja Classic' 'FO Bixby' 'Mu.F.O.']\n"
     ]
    }
   ],
   "source": [
    "import pandas as pd\n",
    "import numpy as np\n",
    "\n",
    "# Read csv data from specific folder\n",
    "file01 \t= 'C:/Users/Andi/H8_PFDS_DS_C1C2_3/Dataset/googleplaystore.csv'\n",
    "file02 \t= 'C:/Users/Andi/H8_PFDS_DS_C1C2_3/Dataset/googleplaystore_user_reviews.csv'\n",
    "df\t\t= pd.read_csv(file01)\n",
    "df_user\t= pd.read_csv(file02)\n",
    "\n",
    "# Check NA values\n",
    "total \t\t = df.isnull().sum().sort_values(ascending=False)\n",
    "percent \t = 100*(df.isnull().sum()/df.isnull().count()).sort_values(ascending=False)\n",
    "missing_data = pd.concat([total, percent], axis=1, keys=['Total', 'Percent'])\n",
    "print(missing_data)\n",
    "\n",
    "# Drop important columns for NA value\n",
    "df.dropna(how ='any', inplace = True)\n",
    "# df\t\t= df.dropna(subset=['Type', 'Genres'])\n",
    "\n",
    "# Check NA values\n",
    "total \t\t = df.isnull().sum().sort_values(ascending=False)\n",
    "percent \t = 100*(df.isnull().sum()/df.isnull().count()).sort_values(ascending=False)\n",
    "missing_data = pd.concat([total, percent], axis=1, keys=['Total', 'Percent'])\n",
    "print(missing_data)\n",
    "\n",
    "# Align the value to proper dtypes\n",
    "print(df.dtypes)\n",
    "df['Price'] \t= df['Price'].apply(lambda x: x.replace('$', '').replace(' ', '')).astype('float')\n",
    "df['Installs']  = df['Installs'].apply(lambda x: x.replace(',', '').replace('+', '')).astype('float')\n",
    "print(df.dtypes)\n",
    "\n",
    "# Find max and min Price Application which only 'Paid' Type\n",
    "apps_paid\t\t= df[df['Type']=='Paid']\n",
    "max_price \t\t= apps_paid.Price.max()\n",
    "min_price \t\t= apps_paid.Price.min()\n",
    "# max_price\t\t= df.query('Type ==\"Paid\"')['Price'].max()\n",
    "# min_price\t\t= df.query('Type ==\"Paid\"')['Price'].min()\n",
    "list_max_Price=df.where(df['Price']==max_price).dropna(subset=['App'])\n",
    "list_min_Price=df.where(df['Price']==min_price).dropna(subset=['App'])\n",
    "print('Applikasi termahal ( $',max_price,') ==> ',list_max_Price['App'].unique())\n",
    "print('Applikasi termurah ( $',min_price,') ==> ',list_min_Price['App'].unique())"
   ]
  },
  {
   "cell_type": "code",
   "execution_count": 39,
   "metadata": {},
   "outputs": [
    {
     "data": {
      "text/plain": [
       "0.99"
      ]
     },
     "execution_count": 39,
     "metadata": {},
     "output_type": "execute_result"
    }
   ],
   "source": [
    "min_price"
   ]
  },
  {
   "cell_type": "code",
   "execution_count": null,
   "metadata": {},
   "outputs": [],
   "source": [
    "# Find max and min Price Application which only 'Paid' Type\n",
    "max_price\t\t= df.query('Type ==\"Paid\"')['Price'].max()\n",
    "min_price\t\t= df.query('Type ==\"Paid\"')['Price'].min()\n",
    "list_max_Price=df.where(df['Price']==max_price).dropna(subset=['App'])\n",
    "list_min_Price=df.where(df['Price']==min_price).dropna(subset=['App'])\n",
    "print('Applikasi termahal ( $'+str(max_price)+') ==> ',list_max_Price['App'].unique())\n",
    "print('Applikasi termurah ( $',min_price,') ==> ',list_min_Price['App'].unique())"
   ]
  },
  {
   "cell_type": "code",
   "execution_count": null,
   "metadata": {},
   "outputs": [],
   "source": [
    "# Create new table to calculate Application by category\n",
    "columns_to_keep = ['App','Category']\n",
    "df_Category = df[columns_to_keep]\n",
    "df_Category = df_Category.drop_duplicates()\n",
    "print(df_Category['Category'].value_counts())"
   ]
  },
  {
   "cell_type": "code",
   "execution_count": null,
   "metadata": {},
   "outputs": [],
   "source": [
    "# Calculate Application having most downloaded\n",
    "max_Installs = df['Installs'].max()\n",
    "list_max_Installs = df.where(df['Installs']==max_Installs).dropna(subset=['App'])\n",
    "print('Applikasi terbanyak didownload ',list_max_Installs['App'].unique())"
   ]
  },
  {
   "cell_type": "code",
   "execution_count": null,
   "metadata": {},
   "outputs": [],
   "source": [
    "# Calculate Average Rating for each Category\n",
    "columns_to_keep = ['App','Category','Rating']\n",
    "df_Rating = df[columns_to_keep]\n",
    "df_Rating = df_Rating.dropna(subset=['Rating'])\n",
    "# print(df_Rating.shape)\n",
    "df_Rating = df_Rating.drop_duplicates()\n",
    "columns_to_keep = ['Category','Rating']\n",
    "df_Rating = df_Rating[columns_to_keep]\n",
    "df_Rating.groupby(['Category']).mean()"
   ]
  },
  {
   "cell_type": "code",
   "execution_count": null,
   "metadata": {},
   "outputs": [],
   "source": [
    "# Calculate Number of Application for each Genre\n",
    "columns_to_keep = ['App','Genres']\n",
    "df_Genres = df[columns_to_keep]\n",
    "df_Genres = df_Genres.dropna(subset=['Genres'])\n",
    "df_Genres = df_Genres.drop_duplicates()\n",
    "# print(df_Genres.shape)\n",
    "df_Genres.groupby(['Genres']).count()"
   ]
  },
  {
   "cell_type": "code",
   "execution_count": null,
   "metadata": {},
   "outputs": [],
   "source": [
    "# Calculate Rating Statistic for each Category\n",
    "columns_to_keep = ['App','Genres','Rating']\n",
    "df_Ratstat = df[columns_to_keep]\n",
    "df_Ratstat = df_Ratstat.dropna(subset=['Rating'])\n",
    "print(df_Ratstat.shape)\n",
    "df_Ratstat = df_Ratstat.drop_duplicates()\n",
    "from scipy import stats\n",
    "table = pd.pivot_table(df_Ratstat, index=['Genres'],values=\"Rating\",\n",
    "                       aggfunc={np.mean, np.median, stats.mode})"
   ]
  },
  {
   "cell_type": "code",
   "execution_count": null,
   "metadata": {},
   "outputs": [],
   "source": [
    "table"
   ]
  },
  {
   "cell_type": "code",
   "execution_count": null,
   "metadata": {},
   "outputs": [],
   "source": []
  }
 ],
 "metadata": {
  "kernelspec": {
   "display_name": "Python 3",
   "language": "python",
   "name": "python3"
  },
  "language_info": {
   "codemirror_mode": {
    "name": "ipython",
    "version": 3
   },
   "file_extension": ".py",
   "mimetype": "text/x-python",
   "name": "python",
   "nbconvert_exporter": "python",
   "pygments_lexer": "ipython3",
   "version": "3.7.4"
  }
 },
 "nbformat": 4,
 "nbformat_minor": 2
}
